{
 "cells": [
  {
   "cell_type": "markdown",
   "metadata": {},
   "source": []
  },
  {
   "cell_type": "code",
   "execution_count": 1,
   "metadata": {},
   "outputs": [],
   "source": [
    "from torchvision.datasets import MNIST, USPS, SVHN\n",
    "import torch \n",
    "import torch.nn as nn\n",
    "from torch.utils.data import Dataset,DataLoader\n",
    "from torchvision.transforms import ToTensor,transforms,Compose,Resize,Lambda\n",
    "import torch.nn.functional as fn\n",
    "from model import CNN\n",
    "import numpy as np"
   ]
  },
  {
   "cell_type": "code",
   "execution_count": 2,
   "metadata": {},
   "outputs": [
    {
     "data": {
      "text/plain": [
       "'cuda'"
      ]
     },
     "execution_count": 2,
     "metadata": {},
     "output_type": "execute_result"
    }
   ],
   "source": [
    "device = 'cuda' if torch.cuda.is_available() else 'cpu'\n",
    "torch.manual_seed(777)\n",
    "if device == 'cuda':\n",
    "    torch.cuda.manual_seed_all(777)\n",
    "device"
   ]
  },
  {
   "cell_type": "code",
   "execution_count": 3,
   "metadata": {},
   "outputs": [
    {
     "name": "stdout",
     "output_type": "stream",
     "text": [
      "Using downloaded and verified file: data/train_32x32.mat\n",
      "Using downloaded and verified file: data/test_32x32.mat\n"
     ]
    }
   ],
   "source": [
    "# data download\n",
    "trainM = MNIST(root='data',train=True,download=True,transform=Compose([\n",
    "Resize(28),\n",
    "ToTensor(),\n",
    "Lambda(lambda x: x.repeat(3,1,1)),\n",
    "]))\n",
    "trainU = USPS(root='data',train=True,download=True,transform=Compose([\n",
    "Resize(28),\n",
    "ToTensor(),\n",
    "Lambda(lambda x: x.repeat(3,1,1)),\n",
    "]))\n",
    "trainS = SVHN(root='data',split='train',download=True,transform=Compose([\n",
    "Resize(28),\n",
    "ToTensor(),\n",
    "]))\n",
    "testM = MNIST(root='data',train=False,download=True,transform=Compose([\n",
    "Resize(28),\n",
    "ToTensor(),\n",
    "Lambda(lambda x: x.repeat(3,1,1)),\n",
    "]))\n",
    "testU = USPS(root='data',train=False,download=True,transform=Compose([\n",
    "Resize(28),\n",
    "ToTensor(),\n",
    "Lambda(lambda x: x.repeat(3,1,1)),\n",
    "]))\n",
    "testS = SVHN(root='data',split='test',download=True,transform=Compose([\n",
    "Resize(28),\n",
    "ToTensor(),\n",
    "]))"
   ]
  },
  {
   "cell_type": "code",
   "execution_count": 4,
   "metadata": {},
   "outputs": [],
   "source": [
    "def makeDataset(raw_data,batch_size):\n",
    "    data_loader = DataLoader(dataset=raw_data,\n",
    "                batch_size=batch_size,\n",
    "                shuffle=True,\n",
    "                drop_last=True) # batch 마지막 데이터 버림\n",
    "    return data_loader\n",
    "\n",
    "train_loader_M = makeDataset(trainM,16)\n",
    "train_loader_U = makeDataset(trainU,16)\n",
    "train_loader_S = makeDataset(trainS,16)\n",
    "\n",
    "test_loader_M = makeDataset(testM,16)\n",
    "test_loader_U = makeDataset(testU,16)\n",
    "test_loader_S = makeDataset(testS,16)"
   ]
  },
  {
   "cell_type": "code",
   "execution_count": 5,
   "metadata": {},
   "outputs": [],
   "source": [
    "train_loaders = (train_loader_M,train_loader_U,train_loader_S)\n",
    "test_loaders = (test_loader_M,test_loader_U,test_loader_S)\n",
    "\n",
    "names = ['MNIST','USPS','SVHN']"
   ]
  },
  {
   "cell_type": "code",
   "execution_count": 16,
   "metadata": {},
   "outputs": [
    {
     "name": "stdout",
     "output_type": "stream",
     "text": [
      "[Epoch:    5] cost = 2.1793766\n",
      "[Epoch:   10] cost = 1.06350899\n",
      "[Epoch:   15] cost = 0.842508912\n",
      "[Epoch:   20] cost = 0.724280357\n",
      "[Epoch:    5] cost = 1.13988841\n",
      "[Epoch:   10] cost = 0.646030605\n",
      "[Epoch:   15] cost = 0.520708382\n",
      "[Epoch:   20] cost = 0.46530968\n",
      "[Epoch:    5] cost = 1.08881831\n",
      "[Epoch:   10] cost = 0.634732783\n",
      "[Epoch:   15] cost = 0.553443193\n",
      "[Epoch:   20] cost = 0.52062887\n"
     ]
    }
   ],
   "source": [
    "# train\n",
    "for c in range(3):\n",
    "    shape = (16,3,28,28)\n",
    "    learning_rate = 0.001\n",
    "    epoch = 20\n",
    "    batches = [3,5,200] # num of data = batch*16\n",
    "    \n",
    "    model = CNN(shape)\n",
    "    model = model.to(device)\n",
    "    \n",
    "    model.train()\n",
    "\n",
    "    criterion = torch.nn.CrossEntropyLoss().to(device)\n",
    "    optimizer = torch.optim.Adam(model.parameters(),lr = learning_rate)\n",
    "\n",
    "    for e in range(epoch):\n",
    "        avg_cost = 0\n",
    "        loader = train_loaders[c] # 매 epoch마다 loader 생성\n",
    "        for i,data in enumerate(loader):\n",
    "            x,y = data\n",
    "            x=x.to(device)\n",
    "            y=y.to(device)\n",
    "            optimizer.zero_grad()\n",
    "            predict = model(x)\n",
    "            cost = criterion(predict,y)\n",
    "            cost.backward()\n",
    "            optimizer.step()\n",
    "\n",
    "            avg_cost += cost / batches[c]\n",
    "            if i==batches[c]:\n",
    "                break\n",
    "        if (e+1)%5 == 0:\n",
    "            print('[Epoch: {:>4}] cost = {:>.9}'.format(e + 1, avg_cost))\n",
    "    torch.save(model.state_dict(),\"./weight/base/\"+names[c]+\".pkl\")\n",
    "    "
   ]
  },
  {
   "cell_type": "code",
   "execution_count": 17,
   "metadata": {},
   "outputs": [
    {
     "name": "stdout",
     "output_type": "stream",
     "text": [
      "model :  MNIST\n",
      "MNIST Test Accuracy:  83.73 %\n",
      "USPS Test Accuracy:  55.15 %\n",
      "SVHN Test Accuracy:  9.480639213275968 %\n",
      "model :  USPS\n",
      "MNIST Test Accuracy:  43.89 %\n",
      "USPS Test Accuracy:  87.0 %\n",
      "SVHN Test Accuracy:  12.2579901659496 %\n",
      "model :  SVHN\n",
      "MNIST Test Accuracy:  57.65 %\n",
      "USPS Test Accuracy:  55.55 %\n",
      "SVHN Test Accuracy:  83.27059004302397 %\n"
     ]
    }
   ],
   "source": [
    "# 입력\n",
    "# 세가지 모델에 대해 입력을 받음\n",
    "# 세가지 데이터셋에 대해 cross check 진행\n",
    "\n",
    "# evaluation\n",
    "\n",
    "\n",
    "for m in range(3) : # 세가지 모델\n",
    "    shape = (16,3,28,28)\n",
    "    model = CNN(shape)\n",
    "    model.load_state_dict(torch.load(\"./weight/base/\"+names[m]+\".pkl\"))\n",
    "    model = model.to(device)\n",
    "    model.eval()\n",
    "    print('model : ',names[m])\n",
    "    for c in range(3): # 세가지 데이터셋\n",
    "        loader = test_loaders[c]\n",
    "        correct=0\n",
    "        total=0\n",
    "\n",
    "        #load model\n",
    "        with torch.no_grad():\n",
    "            for x,y in loader:\n",
    "                x=x.to(device)\n",
    "                y=y.to(device)\n",
    "                predict = torch.max(model(x).data,1)[1]\n",
    "                total+=len(y)\n",
    "                correct+=(predict==y).sum().item()\n",
    "        print(names[c]+' Test Accuracy: ',100.*correct/total, '%')"
   ]
  },
  {
   "cell_type": "markdown",
   "metadata": {},
   "source": []
  },
  {
   "cell_type": "code",
   "execution_count": null,
   "metadata": {},
   "outputs": [],
   "source": []
  }
 ],
 "metadata": {
  "kernelspec": {
   "display_name": "Python 3.7.0 ('gm': conda)",
   "language": "python",
   "name": "python3"
  },
  "language_info": {
   "codemirror_mode": {
    "name": "ipython",
    "version": 3
   },
   "file_extension": ".py",
   "mimetype": "text/x-python",
   "name": "python",
   "nbconvert_exporter": "python",
   "pygments_lexer": "ipython3",
   "version": "3.7.0"
  },
  "vscode": {
   "interpreter": {
    "hash": "36c9161ba8dee023a655394112c02a016b84d3abc94c4722cbaffcadc54ed03f"
   }
  }
 },
 "nbformat": 4,
 "nbformat_minor": 2
}
