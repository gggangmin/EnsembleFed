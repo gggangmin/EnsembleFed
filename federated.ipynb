{
 "cells": [
  {
   "cell_type": "code",
   "execution_count": 14,
   "metadata": {},
   "outputs": [],
   "source": [
    "from torchvision.datasets import MNIST, USPS, SVHN\n",
    "import torch \n",
    "import torch.nn as nn\n",
    "from torch.utils.data import Dataset,DataLoader\n",
    "from torchvision.transforms import ToTensor,transforms,Compose,Resize,Lambda\n",
    "from model import CNN\n",
    "import numpy as np\n",
    "from collections import OrderedDict\n",
    "from functools import reduce"
   ]
  },
  {
   "cell_type": "code",
   "execution_count": 15,
   "metadata": {},
   "outputs": [
    {
     "data": {
      "text/plain": [
       "'cuda'"
      ]
     },
     "execution_count": 15,
     "metadata": {},
     "output_type": "execute_result"
    }
   ],
   "source": [
    "device = 'cuda' if torch.cuda.is_available() else 'cpu'\n",
    "torch.manual_seed(777)\n",
    "if device == 'cuda':\n",
    "    torch.cuda.manual_seed_all(777)\n",
    "device"
   ]
  },
  {
   "cell_type": "code",
   "execution_count": 16,
   "metadata": {},
   "outputs": [
    {
     "name": "stdout",
     "output_type": "stream",
     "text": [
      "Using downloaded and verified file: data/train_32x32.mat\n",
      "Using downloaded and verified file: data/test_32x32.mat\n"
     ]
    }
   ],
   "source": [
    "# data download\n",
    "trainM = MNIST(root='data',train=True,download=True,transform=Compose([\n",
    "Resize(28),\n",
    "ToTensor(),\n",
    "Lambda(lambda x: x.repeat(3,1,1)),\n",
    "]))\n",
    "trainU = USPS(root='data',train=True,download=True,transform=Compose([\n",
    "Resize(28),\n",
    "ToTensor(),\n",
    "Lambda(lambda x: x.repeat(3,1,1)),\n",
    "]))\n",
    "trainS = SVHN(root='data',split='train',download=True,transform=Compose([\n",
    "Resize(28),\n",
    "ToTensor(),\n",
    "]))\n",
    "testM = MNIST(root='data',train=False,download=True,transform=Compose([\n",
    "Resize(28),\n",
    "ToTensor(),\n",
    "Lambda(lambda x: x.repeat(3,1,1)),\n",
    "]))\n",
    "testU = USPS(root='data',train=False,download=True,transform=Compose([\n",
    "Resize(28),\n",
    "ToTensor(),\n",
    "Lambda(lambda x: x.repeat(3,1,1)),\n",
    "]))\n",
    "testS = SVHN(root='data',split='test',download=True,transform=Compose([\n",
    "Resize(28),\n",
    "ToTensor(),\n",
    "]))"
   ]
  },
  {
   "cell_type": "code",
   "execution_count": 17,
   "metadata": {},
   "outputs": [],
   "source": [
    "def makeDataset(raw_data,batch_size):\n",
    "    data_loader = DataLoader(dataset=raw_data,\n",
    "                batch_size=batch_size,\n",
    "                shuffle=True,\n",
    "                drop_last=True) # batch 마지막 데이터 버림\n",
    "    return data_loader\n",
    "\n",
    "train_loader_M = makeDataset(trainM,16)\n",
    "train_loader_U = makeDataset(trainU,16)\n",
    "train_loader_S = makeDataset(trainS,16)\n",
    "\n",
    "test_loader_M = makeDataset(testM,16)\n",
    "test_loader_U = makeDataset(testU,16)\n",
    "test_loader_S = makeDataset(testS,16)"
   ]
  },
  {
   "cell_type": "code",
   "execution_count": 18,
   "metadata": {},
   "outputs": [],
   "source": [
    "train_loaders = (train_loader_M,train_loader_U,train_loader_S)\n",
    "test_loaders = (test_loader_M,test_loader_U,test_loader_S)\n",
    "\n",
    "names = ['MNIST','USPS','SVHN']"
   ]
  },
  {
   "cell_type": "code",
   "execution_count": 19,
   "metadata": {},
   "outputs": [],
   "source": [
    "# FedAvg\n",
    "# 학습한 데이터 양 반영하지 않고 average\n",
    "\n",
    "def fedAvg(models:list):\n",
    "    num_model = len(models)\n",
    "    weights_prime = [\n",
    "        reduce(np.add, layer)/num_model for layer in zip(*models)\n",
    "    ]\n",
    "    return weights_prime"
   ]
  },
  {
   "cell_type": "code",
   "execution_count": 20,
   "metadata": {},
   "outputs": [
    {
     "name": "stdout",
     "output_type": "stream",
     "text": [
      "### round :  1\n",
      "[Epoch:    2] cost = 3.04937792\n",
      "[Epoch:    4] cost = 2.84907341\n",
      "[Epoch:    2] cost = 2.52549314\n",
      "[Epoch:    4] cost = 1.40759063\n",
      "[Epoch:    2] cost = 2.24418998\n",
      "[Epoch:    4] cost = 1.94459987\n",
      "### round :  2\n",
      "[Epoch:    2] cost = 2.86607361\n",
      "[Epoch:    4] cost = 2.78193855\n",
      "[Epoch:    2] cost = 2.38904452\n",
      "[Epoch:    4] cost = 1.38893437\n",
      "[Epoch:    2] cost = 1.45545208\n",
      "[Epoch:    4] cost = 0.9842574\n",
      "### round :  3\n",
      "[Epoch:    2] cost = 1.6634562\n",
      "[Epoch:    4] cost = 1.34624588\n",
      "[Epoch:    2] cost = 1.09606087\n",
      "[Epoch:    4] cost = 0.690509796\n",
      "[Epoch:    2] cost = 1.00876665\n",
      "[Epoch:    4] cost = 0.835080445\n",
      "### round :  4\n",
      "[Epoch:    2] cost = 0.498802602\n",
      "[Epoch:    4] cost = 0.976793468\n",
      "[Epoch:    2] cost = 0.462655872\n",
      "[Epoch:    4] cost = 0.456617266\n",
      "[Epoch:    2] cost = 0.824793875\n",
      "[Epoch:    4] cost = 0.730243802\n",
      "### round :  5\n",
      "[Epoch:    2] cost = 0.866413593\n",
      "[Epoch:    4] cost = 0.486019999\n",
      "[Epoch:    2] cost = 0.86703521\n",
      "[Epoch:    4] cost = 0.552861631\n",
      "[Epoch:    2] cost = 0.765380859\n",
      "[Epoch:    4] cost = 0.667809665\n"
     ]
    }
   ],
   "source": [
    "# train\n",
    "global_model = None\n",
    "round = 5\n",
    "epoch = 4\n",
    "for r in range(round): # round\n",
    "    models=[]\n",
    "    print('### round : ',r+1)\n",
    "    for c in range(3):\n",
    "        shape = (16,3,28,28)\n",
    "        learning_rate = 0.001\n",
    "        batches = [3,5,200]\n",
    "        \n",
    "        model = CNN(shape)\n",
    "        if global_model != None:\n",
    "            model.load_state_dict(global_model,strict=True)  # 첫번째 라운드 이후 global model 사용\n",
    "            \n",
    "        model = model.to(device)\n",
    "        model.train()\n",
    "\n",
    "        criterion = torch.nn.CrossEntropyLoss().to(device)\n",
    "        optimizer = torch.optim.Adam(model.parameters(),lr = learning_rate)\n",
    "\n",
    "        for e in range(epoch):\n",
    "            avg_cost = 0\n",
    "            loader = train_loaders[c] # epoch마다 loader 생성\n",
    "            for i,data in enumerate(loader):\n",
    "                x,y = data\n",
    "                x=x.to(device)\n",
    "                y=y.to(device)\n",
    "                optimizer.zero_grad()\n",
    "                predict = model(x)\n",
    "                cost = criterion(predict,y)\n",
    "                cost.backward()\n",
    "                optimizer.step()\n",
    "\n",
    "                avg_cost += cost / batches[c]\n",
    "                if i== batches[c]:\n",
    "                    break\n",
    "            if (e+1)%2 == 0:\n",
    "                print('[Epoch: {:>4}] cost = {:>.9}'.format(e + 1, avg_cost))\n",
    "        models.append([val.cpu().numpy() for _, val in model.state_dict().items()])\n",
    "        if r== round-1:\n",
    "            torch.save(model.state_dict(),\"./weight/federated/\"+names[c]+\".pkl\")\n",
    "    global_model = fedAvg(models)\n",
    "    params_dict = zip(model.state_dict().keys(), global_model)\n",
    "    global_model = OrderedDict({k: torch.tensor(v) for k, v in params_dict})\n",
    "    \n",
    "torch.save(global_model,\"./weight/federated/global_model.pkl\")\n"
   ]
  },
  {
   "cell_type": "code",
   "execution_count": 21,
   "metadata": {},
   "outputs": [
    {
     "name": "stdout",
     "output_type": "stream",
     "text": [
      "model :  MNIST\n",
      "MNIST Test Accuracy:  88.35 %\n",
      "USPS Test Accuracy:  76.65 %\n",
      "SVHN Test Accuracy:  59.78027043638598 %\n",
      "model :  USPS\n",
      "MNIST Test Accuracy:  73.19 %\n",
      "USPS Test Accuracy:  82.45 %\n",
      "SVHN Test Accuracy:  43.99969268592501 %\n",
      "model :  SVHN\n",
      "MNIST Test Accuracy:  58.86 %\n",
      "USPS Test Accuracy:  47.7 %\n",
      "SVHN Test Accuracy:  80.10909649661954 %\n"
     ]
    }
   ],
   "source": [
    "# 입력\n",
    "# 세가지 모델에 대해 입력을 받음\n",
    "# 세가지 데이터셋에 대해 cross check 진행\n",
    "\n",
    "# evaluation\n",
    "for m in range(3) : # 세가지 모델\n",
    "    shape = (16,3,28,28)\n",
    "    model = CNN(shape)\n",
    "    model.load_state_dict(torch.load(\"./weight/federated/\"+names[m]+\".pkl\"))\n",
    "    model = model.to(device)\n",
    "    model.eval()\n",
    "    print('model : ',names[m])\n",
    "    for c in range(3): # 세가지 데이터셋\n",
    "        loader = test_loaders[c]\n",
    "        correct=0\n",
    "        total=0\n",
    "\n",
    "        #load model\n",
    "        with torch.no_grad():\n",
    "            for x,y in loader:\n",
    "                x=x.to(device)\n",
    "                y=y.to(device)\n",
    "                predict = torch.max(model(x).data,1)[1]\n",
    "                total+=len(y)\n",
    "                correct+=(predict==y).sum().item()\n",
    "        print(names[c]+' Test Accuracy: ',100.*correct/total, '%')"
   ]
  },
  {
   "cell_type": "code",
   "execution_count": 23,
   "metadata": {},
   "outputs": [
    {
     "name": "stdout",
     "output_type": "stream",
     "text": [
      "MNIST global_model Test Accuracy:  78.19 %\n",
      "USPS global_model Test Accuracy:  78.95 %\n",
      "SVHN global_model Test Accuracy:  75.24969268592501 %\n"
     ]
    }
   ],
   "source": [
    "# evaluation\n",
    "\n",
    "#load global model\n",
    "model = CNN(shape)\n",
    "model.load_state_dict(torch.load(\"./weight/federated/global_model.pkl\"))\n",
    "model = model.to(device)\n",
    "model.eval()\n",
    "\n",
    "for c in range(3):\n",
    "    shape = (16,3,28,28)\n",
    "    loader = test_loaders[c]\n",
    "    correct=0\n",
    "    total=0\n",
    "    with torch.no_grad():\n",
    "        for x,y in loader:\n",
    "            x=x.to(device)\n",
    "            y=y.to(device)\n",
    "            predict = torch.max(model(x).data,1)[1]\n",
    "            total+=len(y)\n",
    "            correct+=(predict==y).sum().item()\n",
    "    print(names[c]+' global_model Test Accuracy: ',100.*correct/total, '%')"
   ]
  },
  {
   "cell_type": "code",
   "execution_count": null,
   "metadata": {},
   "outputs": [],
   "source": []
  }
 ],
 "metadata": {
  "kernelspec": {
   "display_name": "Python 3.7.0 ('gm': conda)",
   "language": "python",
   "name": "python3"
  },
  "language_info": {
   "codemirror_mode": {
    "name": "ipython",
    "version": 3
   },
   "file_extension": ".py",
   "mimetype": "text/x-python",
   "name": "python",
   "nbconvert_exporter": "python",
   "pygments_lexer": "ipython3",
   "version": "3.7.0"
  },
  "vscode": {
   "interpreter": {
    "hash": "36c9161ba8dee023a655394112c02a016b84d3abc94c4722cbaffcadc54ed03f"
   }
  }
 },
 "nbformat": 4,
 "nbformat_minor": 2
}
