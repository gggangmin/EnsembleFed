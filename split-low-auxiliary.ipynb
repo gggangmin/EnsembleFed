{
 "cells": [
  {
   "cell_type": "code",
   "execution_count": 1,
   "metadata": {},
   "outputs": [],
   "source": [
    "from torchvision.datasets import MNIST, USPS, SVHN\n",
    "import torch \n",
    "import torch.nn as nn\n",
    "from torch.utils.data import Dataset,DataLoader\n",
    "from torchvision.transforms import ToTensor,transforms,Compose,Resize,Lambda\n",
    "from model import CNN\n",
    "import numpy as np\n",
    "from collections import OrderedDict\n",
    "from functools import reduce"
   ]
  },
  {
   "cell_type": "code",
   "execution_count": 2,
   "metadata": {},
   "outputs": [
    {
     "data": {
      "text/plain": [
       "'cuda'"
      ]
     },
     "execution_count": 2,
     "metadata": {},
     "output_type": "execute_result"
    }
   ],
   "source": [
    "device = 'cuda' if torch.cuda.is_available() else 'cpu'\n",
    "torch.manual_seed(777)\n",
    "if device == 'cuda':\n",
    "    torch.cuda.manual_seed_all(777)\n",
    "device"
   ]
  },
  {
   "cell_type": "code",
   "execution_count": 3,
   "metadata": {},
   "outputs": [
    {
     "name": "stdout",
     "output_type": "stream",
     "text": [
      "Using downloaded and verified file: data/train_32x32.mat\n",
      "Using downloaded and verified file: data/test_32x32.mat\n"
     ]
    }
   ],
   "source": [
    "# data download\n",
    "trainM = MNIST(root='data',train=True,download=True,transform=Compose([\n",
    "Resize(28),\n",
    "ToTensor(),\n",
    "Lambda(lambda x: x.repeat(3,1,1)),\n",
    "]))\n",
    "trainU = USPS(root='data',train=True,download=True,transform=Compose([\n",
    "Resize(28),\n",
    "ToTensor(),\n",
    "Lambda(lambda x: x.repeat(3,1,1)),\n",
    "]))\n",
    "trainS = SVHN(root='data',split='train',download=True,transform=Compose([\n",
    "Resize(28),\n",
    "ToTensor(),\n",
    "]))\n",
    "testM = MNIST(root='data',train=False,download=True,transform=Compose([\n",
    "Resize(28),\n",
    "ToTensor(),\n",
    "Lambda(lambda x: x.repeat(3,1,1)),\n",
    "]))\n",
    "testU = USPS(root='data',train=False,download=True,transform=Compose([\n",
    "Resize(28),\n",
    "ToTensor(),\n",
    "Lambda(lambda x: x.repeat(3,1,1)),\n",
    "]))\n",
    "testS = SVHN(root='data',split='test',download=True,transform=Compose([\n",
    "Resize(28),\n",
    "ToTensor(),\n",
    "]))"
   ]
  },
  {
   "cell_type": "code",
   "execution_count": 4,
   "metadata": {},
   "outputs": [],
   "source": [
    "def makeDataset(raw_data,batch_size):\n",
    "    data_loader = DataLoader(dataset=raw_data,\n",
    "                batch_size=batch_size,\n",
    "                shuffle=True,\n",
    "                drop_last=True) # batch 마지막 데이터 버림\n",
    "    return data_loader\n",
    "\n",
    "train_loader_M = makeDataset(trainM,16)\n",
    "train_loader_U = makeDataset(trainU,16)\n",
    "train_loader_S = makeDataset(trainS,16)\n",
    "\n",
    "test_loader_M = makeDataset(testM,16)\n",
    "test_loader_U = makeDataset(testU,16)\n",
    "test_loader_S = makeDataset(testS,16)"
   ]
  },
  {
   "cell_type": "code",
   "execution_count": 5,
   "metadata": {},
   "outputs": [],
   "source": [
    "train_loaders = (train_loader_M,train_loader_U,train_loader_S)\n",
    "test_loaders = (test_loader_M,test_loader_U,test_loader_S)\n",
    "\n",
    "names = ['MNIST','USPS','SVHN']"
   ]
  },
  {
   "cell_type": "code",
   "execution_count": 6,
   "metadata": {},
   "outputs": [],
   "source": [
    "# FedAvg\n",
    "# 학습한 데이터 양 반영하지 않고 average\n",
    "\n",
    "def fedAvg(models:list):\n",
    "    num_model = len(models)\n",
    "    weights_prime = [\n",
    "        reduce(np.add, layer)/num_model for layer in zip(*models)\n",
    "    ]\n",
    "    return weights_prime"
   ]
  },
  {
   "cell_type": "code",
   "execution_count": 7,
   "metadata": {},
   "outputs": [
    {
     "data": {
      "text/plain": [
       "['conv_layer.0.weight', 'conv_layer.0.bias']"
      ]
     },
     "execution_count": 7,
     "metadata": {},
     "output_type": "execute_result"
    }
   ],
   "source": [
    "shape = (16,3,28,28)\n",
    "model = CNN(shape)\n",
    "list(model.state_dict().keys())[:2]"
   ]
  },
  {
   "cell_type": "code",
   "execution_count": 8,
   "metadata": {},
   "outputs": [
    {
     "name": "stdout",
     "output_type": "stream",
     "text": [
      "### round :  1\n"
     ]
    }
   ],
   "source": [
    "# train\n",
    "global_model = None\n",
    "round = 5\n",
    "epoch = 4\n",
    "models={}\n",
    "for r in range(round): # round\n",
    "    print('### round : ',r+1)\n",
    "    for c in range(3):\n",
    "        shape = (16,3,28,28)\n",
    "        learning_rate = 0.001\n",
    "        batches = [3,5,200]\n",
    "        \n",
    "        model = CNN(shape)\n",
    "        if global_model != None:\n",
    "            model.load_state_dict(global_model,strict=True)  # 첫번째 라운드 이후 global model 사용\n",
    "            \n",
    "        model = model.to(device)\n",
    "        model.train()\n",
    "\n",
    "        criterion = torch.nn.CrossEntropyLoss().to(device)\n",
    "        optimizer = torch.optim.Adam(model.parameters(),lr = learning_rate)\n",
    "\n",
    "        for e in range(epoch):\n",
    "            avg_cost = 0\n",
    "            loader = train_loaders[c] # epoch마다 loader 생성\n",
    "            for i,data in enumerate(loader):\n",
    "                x,y = data\n",
    "                x=x.to(device)\n",
    "                y=y.to(device)\n",
    "                optimizer.zero_grad()\n",
    "                predict = model(x)\n",
    "                cost = criterion(predict,y)\n",
    "                cost.backward()\n",
    "                optimizer.step()\n",
    "\n",
    "                avg_cost += cost / batches[c]\n",
    "                if i== batches[c]:\n",
    "                    break\n",
    "            if (e+1)%2 == 0:\n",
    "                print('[Epoch: {:>4}] cost = {:>.9}'.format(e + 1, avg_cost))\n",
    "        models[names[c]]=([val.cpu().numpy() for _, val in list(model.state_dict().items())[:2] ]) # for split-low\n",
    "        if r== round-1:\n",
    "            torch.save(model.state_dict(),\"./weight/split_low/\"+names[c]+\".pkl\")\n",
    "    global_model = fedAvg(models.values())\n",
    "    params_dict = zip(list(model.state_dict().keys())[:2], global_model)\n",
    "    global_model = OrderedDict({k: torch.tensor(v) for k, v in params_dict})\n",
    "    \n",
    "torch.save(global_model,\"./weight/split_low/global_model.pkl\")\n"
   ]
  },
  {
   "cell_type": "code",
   "execution_count": null,
   "metadata": {},
   "outputs": [],
   "source": []
  }
 ],
 "metadata": {
  "kernelspec": {
   "display_name": "Python 3.7.0 ('gm': conda)",
   "language": "python",
   "name": "python3"
  },
  "language_info": {
   "codemirror_mode": {
    "name": "ipython",
    "version": 3
   },
   "file_extension": ".py",
   "mimetype": "text/x-python",
   "name": "python",
   "nbconvert_exporter": "python",
   "pygments_lexer": "ipython3",
   "version": "3.7.0"
  },
  "orig_nbformat": 4,
  "vscode": {
   "interpreter": {
    "hash": "36c9161ba8dee023a655394112c02a016b84d3abc94c4722cbaffcadc54ed03f"
   }
  }
 },
 "nbformat": 4,
 "nbformat_minor": 2
}
